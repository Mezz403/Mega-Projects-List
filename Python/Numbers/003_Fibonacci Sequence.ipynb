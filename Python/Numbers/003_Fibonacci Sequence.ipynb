{
 "cells": [
  {
   "cell_type": "markdown",
   "metadata": {},
   "source": [
    "### Fibonacci Sequence\n",
    "Enter a number and have the program generate the Fibonacci sequence to that number or to the Nth number."
   ]
  },
  {
   "cell_type": "code",
   "execution_count": 18,
   "metadata": {
    "collapsed": true
   },
   "outputs": [],
   "source": [
    "def fibonacci_sequence():\n",
    "    limit = input('Enter Nth Fibonacci Number: ')\n",
    "    limit = int(limit)\n",
    "    \n",
    "    fibonacci_0 = 0\n",
    "    fibonacci_1 = 1\n",
    "    fibonacci_n = fibonacci_0 + fibonacci_1\n",
    "    \n",
    "    if limit == 0:\n",
    "        return fibonacci_0\n",
    "    elif limit == 1:\n",
    "        return fibonacci_1\n",
    "    else:\n",
    "        for i in range(2, limit + 1):\n",
    "            fibonacci_n = fibonacci_0 + fibonacci_1\n",
    "            fibonacci_0 = fibonacci_1\n",
    "            fibonacci_1 = fibonacci_n\n",
    "            \n",
    "    return fibonacci_n"
   ]
  },
  {
   "cell_type": "code",
   "execution_count": 19,
   "metadata": {
    "collapsed": false
   },
   "outputs": [
    {
     "name": "stdout",
     "output_type": "stream",
     "text": [
      "Enter Nth Fibonacci Number: 100\n"
     ]
    },
    {
     "data": {
      "text/plain": [
       "354224848179261915075"
      ]
     },
     "execution_count": 19,
     "metadata": {},
     "output_type": "execute_result"
    }
   ],
   "source": [
    "fibonacci_sequence()"
   ]
  }
 ],
 "metadata": {
  "kernelspec": {
   "display_name": "Python 3",
   "language": "python",
   "name": "python3"
  },
  "language_info": {
   "codemirror_mode": {
    "name": "ipython",
    "version": 3
   },
   "file_extension": ".py",
   "mimetype": "text/x-python",
   "name": "python",
   "nbconvert_exporter": "python",
   "pygments_lexer": "ipython3",
   "version": "3.5.1"
  }
 },
 "nbformat": 4,
 "nbformat_minor": 0
}
