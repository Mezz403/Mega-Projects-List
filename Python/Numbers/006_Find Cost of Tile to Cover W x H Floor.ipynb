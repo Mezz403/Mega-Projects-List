{
 "cells": [
  {
   "cell_type": "markdown",
   "metadata": {},
   "source": [
    "### Find Cost of Tile to Cover W x H Floor\n",
    "Calculate the total cost of tile it would take to cover a floor plan of width and height, using a cost entered by the user."
   ]
  },
  {
   "cell_type": "code",
   "execution_count": 1,
   "metadata": {
    "collapsed": true
   },
   "outputs": [],
   "source": [
    "def area(width, height):\n",
    "    return width * height"
   ]
  },
  {
   "cell_type": "code",
   "execution_count": 3,
   "metadata": {
    "collapsed": true
   },
   "outputs": [],
   "source": [
    "def cost_to_cover(area, area_per_pack, cost_per_pack):\n",
    "    packs_needed = area / area_per_pack\n",
    "    return packs_needed * cost_per_pack"
   ]
  },
  {
   "cell_type": "code",
   "execution_count": 7,
   "metadata": {
    "collapsed": true
   },
   "outputs": [],
   "source": [
    "def input_data():\n",
    "    cost_per_pack = input('Enter value of 1 pack of tiles: ')\n",
    "    area_per_pack = input('Enter the square meters covered by the pack: ')\n",
    "    width = input('Enter width of room: ')\n",
    "    height = input('Enter height of room: ')\n",
    "    \n",
    "    return cost_per_pack, area_per_pack, width, height"
   ]
  },
  {
   "cell_type": "code",
   "execution_count": 15,
   "metadata": {
    "collapsed": false
   },
   "outputs": [],
   "source": [
    "def find_cost_of_room():\n",
    "    data = list(map(int, input_data()))\n",
    "    room_area = area(data[2], data[3])\n",
    "    cover_cost = cost_to_cover(data[0], data[1], room_area)\n",
    "    \n",
    "    print('You need to cover a total of %d square meters.' % room_area)\n",
    "    print('The total cost will be: $%d' % cover_cost)\n",
    "    \n",
    "    return"
   ]
  },
  {
   "cell_type": "code",
   "execution_count": 16,
   "metadata": {
    "collapsed": false
   },
   "outputs": [
    {
     "name": "stdout",
     "output_type": "stream",
     "text": [
      "Enter value of 1 pack of tiles: 12\n",
      "Enter the square meters covered by the pack: 12\n",
      "Enter width of room: 144\n",
      "Enter height of room: 156\n",
      "You need to cover a total of 22464 square meters.\n",
      "The total cost will be: $22464\n"
     ]
    }
   ],
   "source": [
    "find_cost_of_room()"
   ]
  }
 ],
 "metadata": {
  "kernelspec": {
   "display_name": "Python 3",
   "language": "python",
   "name": "python3"
  },
  "language_info": {
   "codemirror_mode": {
    "name": "ipython",
    "version": 3
   },
   "file_extension": ".py",
   "mimetype": "text/x-python",
   "name": "python",
   "nbconvert_exporter": "python",
   "pygments_lexer": "ipython3",
   "version": "3.5.1"
  }
 },
 "nbformat": 4,
 "nbformat_minor": 0
}
