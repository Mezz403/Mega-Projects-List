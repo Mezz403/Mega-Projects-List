{
 "cells": [
  {
   "cell_type": "markdown",
   "metadata": {},
   "source": [
    "### Next Prime Number\n",
    "Have the program find prime numbers until the user chooses to stop asking for the next one."
   ]
  },
  {
   "cell_type": "code",
   "execution_count": 1,
   "metadata": {
    "collapsed": true
   },
   "outputs": [],
   "source": [
    "def gen_primes():\n",
    "    D = {}\n",
    "    q = 2\n",
    "    \n",
    "    while True:\n",
    "        if q not in D:\n",
    "            yield q\n",
    "            D[q * q] = [q]\n",
    "        else:\n",
    "            for p in D[q]:\n",
    "                D.setdefault(p + q, []).append(p)\n",
    "            del D[q]\n",
    "        \n",
    "        q += 1"
   ]
  },
  {
   "cell_type": "code",
   "execution_count": 2,
   "metadata": {
    "collapsed": true
   },
   "outputs": [],
   "source": [
    "def next_prime_number():\n",
    "    find_next = input('Find next prime number? (yes or no): ')\n",
    "    prime = gen_primes()\n",
    "    \n",
    "    while find_next == 'yes':\n",
    "        print(next(prime))\n",
    "        find_next = input('Find next prime number? (yes or no): ')\n",
    "        \n",
    "    return        "
   ]
  },
  {
   "cell_type": "code",
   "execution_count": 3,
   "metadata": {
    "collapsed": false
   },
   "outputs": [
    {
     "name": "stdout",
     "output_type": "stream",
     "text": [
      "Find next prime number? (yes or no): yes\n",
      "2\n",
      "Find next prime number? (yes or no): yes\n",
      "3\n",
      "Find next prime number? (yes or no): yes\n",
      "5\n",
      "Find next prime number? (yes or no): yes\n",
      "7\n",
      "Find next prime number? (yes or no): yes\n",
      "11\n",
      "Find next prime number? (yes or no): yes\n",
      "13\n",
      "Find next prime number? (yes or no): yes\n",
      "17\n",
      "Find next prime number? (yes or no): yes\n",
      "19\n",
      "Find next prime number? (yes or no): yes\n",
      "23\n",
      "Find next prime number? (yes or no): yes\n",
      "29\n",
      "Find next prime number? (yes or no): yes\n",
      "31\n",
      "Find next prime number? (yes or no): yes\n",
      "37\n",
      "Find next prime number? (yes or no): yes\n",
      "41\n",
      "Find next prime number? (yes or no): yes\n",
      "43\n",
      "Find next prime number? (yes or no): yes\n",
      "47\n",
      "Find next prime number? (yes or no): yes\n",
      "53\n",
      "Find next prime number? (yes or no): no\n"
     ]
    }
   ],
   "source": [
    "next_prime_number()"
   ]
  }
 ],
 "metadata": {
  "kernelspec": {
   "display_name": "Python 3",
   "language": "python",
   "name": "python3"
  },
  "language_info": {
   "codemirror_mode": {
    "name": "ipython",
    "version": 3
   },
   "file_extension": ".py",
   "mimetype": "text/x-python",
   "name": "python",
   "nbconvert_exporter": "python",
   "pygments_lexer": "ipython3",
   "version": "3.5.1"
  }
 },
 "nbformat": 4,
 "nbformat_minor": 0
}
