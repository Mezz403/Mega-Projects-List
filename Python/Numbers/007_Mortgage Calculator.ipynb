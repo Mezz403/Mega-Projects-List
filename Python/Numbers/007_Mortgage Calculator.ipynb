{
 "cells": [
  {
   "cell_type": "markdown",
   "metadata": {},
   "source": [
    "### Mortgage Calculator\n",
    "Calculate the monthly payments of a fixed term mortgage over given Nth terms at a given interest rate. Also figure out how long it will take the user to pay back the loan. For added complexity, add an option for users to select the compounding interval (Monthly, Weekly, Daily, Continually)."
   ]
  },
  {
   "cell_type": "code",
   "execution_count": 30,
   "metadata": {
    "collapsed": false
   },
   "outputs": [],
   "source": [
    "from decimal import Decimal, getcontext\n",
    "from bokeh.models import ColumnDataSource\n",
    "from bokeh.models.widgets import DataTable, DateFormatter, NumberFormatter, TableColumn\n",
    "from bokeh.plotting import output_notebook, show\n",
    "from bokeh.models.layouts import WidgetBox"
   ]
  },
  {
   "cell_type": "code",
   "execution_count": 2,
   "metadata": {
    "collapsed": false
   },
   "outputs": [],
   "source": [
    "def monthly_payment(r, P, N):\n",
    "    return Decimal((r * P) / (1 - (1 + r)**(-N)))"
   ]
  },
  {
   "cell_type": "code",
   "execution_count": 3,
   "metadata": {
    "collapsed": true
   },
   "outputs": [],
   "source": [
    "def total_interest(c, N, P):\n",
    "    return Decimal(c * N - P)"
   ]
  },
  {
   "cell_type": "code",
   "execution_count": 32,
   "metadata": {
    "collapsed": false
   },
   "outputs": [],
   "source": [
    "def amoritization(c, r, P):    \n",
    "    getcontext().prec = 2\n",
    "    month = []\n",
    "    interest = []\n",
    "    principal = []\n",
    "    total_payment = []\n",
    "    balance = []\n",
    "    i = 1\n",
    "    \n",
    "    TWOPLACES = Decimal(10) ** -2\n",
    "\n",
    "    while P > 0:\n",
    "        H = P * r\n",
    "        if P < c:\n",
    "            M = P\n",
    "        else:\n",
    "            M = c - H\n",
    "        Q = P - M\n",
    "        \n",
    "        month.append(i)\n",
    "        interest.append(round(H, 2))\n",
    "        principal.append(round(M, 2))\n",
    "        total_payment.append(round(M, 2) + round(H, 2))\n",
    "        balance.append(round(Q, 2))\n",
    "        \n",
    "        P = Q\n",
    "        i += 1\n",
    "        \n",
    "    data = dict(\n",
    "            months = month,\n",
    "            interests = NumberFormatter(interest, '$0,0.00'),\n",
    "            principals = NumberFormatter(principal, '$0,0.00'),\n",
    "            totals = NumberFormatter(total_payment, '$0,0.00'),\n",
    "            balances = NumberFormatter(balance, '$0,0.00')\n",
    "    )\n",
    "    \n",
    "    source = ColumnDataSource(data)\n",
    "    \n",
    "    columns = [\n",
    "            TableColumn(field = \"months\", title=\"Month\"),\n",
    "            TableColumn(field = \"interests\", title = \"Interest\"),\n",
    "            TableColumn(field = \"principals\", title = \"Principal\"),\n",
    "            TableColumn(field = \"totals\", title = \"Total Payment\"),\n",
    "            TableColumn(field = \"balances\", title = \"Balance\"),\n",
    "    ]\n",
    "    \n",
    "    data_table = DataTable(source=source, columns = columns)\n",
    "    show(WidgetBox(data_table))\n",
    "        \n",
    "    return"
   ]
  },
  {
   "cell_type": "code",
   "execution_count": 5,
   "metadata": {
    "collapsed": true
   },
   "outputs": [],
   "source": [
    "def welcome_menu():\n",
    "    print('                                                            ')\n",
    "    print('             Welcome to the Mortgage Calculator             ')\n",
    "    print('                                                            ')\n",
    "    print(' (1.) Calculate Monthly Payment                             ')\n",
    "    print(' (2.) Calculate Total Interest Paid                         ')\n",
    "    print(' (3.) Calculate Total Payment                               ')\n",
    "    print(' (4.) Loan Amoritization Schedule                           ')\n",
    "    print(' (5.) Exit Calculator                                       ')\n",
    "    print('                                                            ')"
   ]
  },
  {
   "cell_type": "code",
   "execution_count": 6,
   "metadata": {
    "collapsed": false
   },
   "outputs": [],
   "source": [
    "def input_data():\n",
    "    r = (Decimal(input('Enter monthly interest rate: ')) / 12) / 100\n",
    "    N = (Decimal(input('Enter number of monthly payments in years: '))) * 12\n",
    "    P = Decimal(input('Enter the amount borrowed: '))\n",
    "    return r, N, P"
   ]
  },
  {
   "cell_type": "code",
   "execution_count": 7,
   "metadata": {
    "collapsed": true
   },
   "outputs": [],
   "source": [
    "def mortgage_calculator():\n",
    "    data = input_data()\n",
    "    r = data[0]\n",
    "    N = data[1]\n",
    "    P = data[2]\n",
    "    \n",
    "    payment = mortgage(r, P, N)\n",
    "    interest = interest_paid(payment, N, P)\n",
    "    monthly_interest = P * r\n",
    "    monthly_principal = payment - monthly_interest\n",
    "    \n",
    "    print('interest: %.2f' % monthly_interest)\n",
    "    print('principal: %.2f' % monthly_principal)\n",
    "    print('')\n",
    "    print('Your monthly payment: $%.2f' % payment)\n",
    "    print('Total interest paid over life of loan: $%.2f' % interest)\n",
    "    \n",
    "    return"
   ]
  },
  {
   "cell_type": "code",
   "execution_count": null,
   "metadata": {
    "collapsed": false
   },
   "outputs": [],
   "source": [
    "mortgage_calculator()"
   ]
  },
  {
   "cell_type": "code",
   "execution_count": 40,
   "metadata": {
    "collapsed": false
   },
   "outputs": [
    {
     "data": {
      "text/plain": [
       "Decimal('2262.8912916667022727779112756252288818359375')"
      ]
     },
     "execution_count": 40,
     "metadata": {},
     "output_type": "execute_result"
    }
   ],
   "source": [
    "monthly_payment((6.5/12)/100, 2250.7, 1)"
   ]
  },
  {
   "cell_type": "code",
   "execution_count": 61,
   "metadata": {
    "collapsed": false
   },
   "outputs": [
    {
     "data": {
      "text/plain": [
       "<bokeh.models.widgets.tables.DataTable at 0x1dcebcfda58>"
      ]
     },
     "execution_count": 61,
     "metadata": {},
     "output_type": "execute_result"
    }
   ],
   "source": [
    "table()"
   ]
  },
  {
   "cell_type": "code",
   "execution_count": 32,
   "metadata": {
    "collapsed": false
   },
   "outputs": [
    {
     "name": "stdout",
     "output_type": "stream",
     "text": [
      "                                                            \n",
      "             Welcome to the Mortgage Calculator             \n",
      "                                                            \n",
      " (1.) Calculate Monthly Payment                             \n",
      " (2.) Calculate Total Interest Paid                         \n",
      " (3.) Calculate Total Payment                               \n",
      " (4.) Loan Amoritization Schedule                           \n",
      " (5.) Exit Calculator                                       \n",
      "                                                            \n"
     ]
    }
   ],
   "source": [
    "welcome_menu()"
   ]
  },
  {
   "cell_type": "code",
   "execution_count": 33,
   "metadata": {
    "collapsed": false
   },
   "outputs": [
    {
     "ename": "TypeError",
     "evalue": "__init__() takes 1 positional argument but 3 were given",
     "output_type": "error",
     "traceback": [
      "\u001b[1;31m---------------------------------------------------------------------------\u001b[0m",
      "\u001b[1;31mTypeError\u001b[0m                                 Traceback (most recent call last)",
      "\u001b[1;32m<ipython-input-33-23862bbb1851>\u001b[0m in \u001b[0;36m<module>\u001b[1;34m()\u001b[0m\n\u001b[1;32m----> 1\u001b[1;33m \u001b[0mamoritization\u001b[0m\u001b[1;33m(\u001b[0m\u001b[1;36m10000\u001b[0m\u001b[1;33m,\u001b[0m \u001b[1;33m(\u001b[0m\u001b[1;36m6.5\u001b[0m\u001b[1;33m/\u001b[0m\u001b[1;36m12\u001b[0m\u001b[1;33m)\u001b[0m\u001b[1;33m/\u001b[0m\u001b[1;36m100\u001b[0m\u001b[1;33m,\u001b[0m \u001b[1;36m200000\u001b[0m\u001b[1;33m)\u001b[0m\u001b[1;33m\u001b[0m\u001b[0m\n\u001b[0m",
      "\u001b[1;32m<ipython-input-32-5f00a009afec>\u001b[0m in \u001b[0;36mamoritization\u001b[1;34m(c, r, P)\u001b[0m\n\u001b[0;32m     29\u001b[0m     data = dict(\n\u001b[0;32m     30\u001b[0m             \u001b[0mmonths\u001b[0m \u001b[1;33m=\u001b[0m \u001b[0mmonth\u001b[0m\u001b[1;33m,\u001b[0m\u001b[1;33m\u001b[0m\u001b[0m\n\u001b[1;32m---> 31\u001b[1;33m             \u001b[0minterests\u001b[0m \u001b[1;33m=\u001b[0m \u001b[0mNumberFormatter\u001b[0m\u001b[1;33m(\u001b[0m\u001b[0minterest\u001b[0m\u001b[1;33m,\u001b[0m \u001b[1;34m'$0,0.00'\u001b[0m\u001b[1;33m)\u001b[0m\u001b[1;33m,\u001b[0m\u001b[1;33m\u001b[0m\u001b[0m\n\u001b[0m\u001b[0;32m     32\u001b[0m             \u001b[0mprincipals\u001b[0m \u001b[1;33m=\u001b[0m \u001b[0mNumberFormatter\u001b[0m\u001b[1;33m(\u001b[0m\u001b[0mprincipal\u001b[0m\u001b[1;33m,\u001b[0m \u001b[1;34m'$0,0.00'\u001b[0m\u001b[1;33m)\u001b[0m\u001b[1;33m,\u001b[0m\u001b[1;33m\u001b[0m\u001b[0m\n\u001b[0;32m     33\u001b[0m             \u001b[0mtotals\u001b[0m \u001b[1;33m=\u001b[0m \u001b[0mNumberFormatter\u001b[0m\u001b[1;33m(\u001b[0m\u001b[0mtotal_payment\u001b[0m\u001b[1;33m,\u001b[0m \u001b[1;34m'$0,0.00'\u001b[0m\u001b[1;33m)\u001b[0m\u001b[1;33m,\u001b[0m\u001b[1;33m\u001b[0m\u001b[0m\n",
      "\u001b[1;31mTypeError\u001b[0m: __init__() takes 1 positional argument but 3 were given"
     ]
    }
   ],
   "source": [
    "amoritization(10000, (6.5/12)/100, 200000)"
   ]
  },
  {
   "cell_type": "code",
   "execution_count": 27,
   "metadata": {
    "collapsed": false
   },
   "outputs": [
    {
     "ename": "InvalidOperation",
     "evalue": "[<class 'decimal.InvalidOperation'>]",
     "output_type": "error",
     "traceback": [
      "\u001b[1;31m---------------------------------------------------------------------------\u001b[0m",
      "\u001b[1;31mInvalidOperation\u001b[0m                          Traceback (most recent call last)",
      "\u001b[1;32m<ipython-input-27-9ffb5e170e96>\u001b[0m in \u001b[0;36m<module>\u001b[1;34m()\u001b[0m\n\u001b[1;32m----> 1\u001b[1;33m \u001b[0mDecimal\u001b[0m\u001b[1;33m(\u001b[0m\u001b[1;34m'3.12415'\u001b[0m\u001b[1;33m)\u001b[0m\u001b[1;33m.\u001b[0m\u001b[0mquantize\u001b[0m\u001b[1;33m(\u001b[0m\u001b[0mDecimal\u001b[0m\u001b[1;33m(\u001b[0m\u001b[1;34m'.01'\u001b[0m\u001b[1;33m)\u001b[0m\u001b[1;33m)\u001b[0m\u001b[1;33m\u001b[0m\u001b[0m\n\u001b[0m",
      "\u001b[1;31mInvalidOperation\u001b[0m: [<class 'decimal.InvalidOperation'>]"
     ]
    }
   ],
   "source": [
    "Decimal('3.12415').quantize(Decimal('.01'))"
   ]
  }
 ],
 "metadata": {
  "kernelspec": {
   "display_name": "Python 3",
   "language": "python",
   "name": "python3"
  },
  "language_info": {
   "codemirror_mode": {
    "name": "ipython",
    "version": 3
   },
   "file_extension": ".py",
   "mimetype": "text/x-python",
   "name": "python",
   "nbconvert_exporter": "python",
   "pygments_lexer": "ipython3",
   "version": "3.5.2"
  }
 },
 "nbformat": 4,
 "nbformat_minor": 0
}
