{
 "cells": [
  {
   "cell_type": "markdown",
   "metadata": {},
   "source": [
    "### Find e to the Nth Digit\n",
    "Just like the previous problem, but with e instead of PI. Enter a number and have the program generate e up to that many decimal places. Keep a limit to how far the program will go."
   ]
  },
  {
   "cell_type": "code",
   "execution_count": 23,
   "metadata": {
    "collapsed": false
   },
   "outputs": [],
   "source": [
    "from math import factorial\n",
    "from decimal import Decimal, getcontext\n",
    "\n",
    "def e_to_Nth_Digit():\n",
    "    precision = input('Enter Nth digit (from 0 to 1000): ')\n",
    "    \n",
    "    while (int(precision) > 1000) or (int(precision) < 0):\n",
    "        precision = input('Input not within range. Enter Nth digit (from 0 to 1000): ')\n",
    "    \n",
    "    e_to_n = 0\n",
    "    getcontext().prec= int(precision)\n",
    "    \n",
    "    for i in range(int(precision)):\n",
    "        e_to_n += 1 / Decimal(factorial(i))\n",
    "        \n",
    "    return print(e_to_n)"
   ]
  },
  {
   "cell_type": "code",
   "execution_count": 24,
   "metadata": {
    "collapsed": false
   },
   "outputs": [
    {
     "name": "stdout",
     "output_type": "stream",
     "text": [
      "Enter Nth digit (from 0 to 1000): 100\n",
      "2.718281828459045235360287471352662497757247093699959574966967627724076630353547594571382178525166428\n"
     ]
    }
   ],
   "source": [
    "e_to_Nth_Digit()"
   ]
  }
 ],
 "metadata": {
  "kernelspec": {
   "display_name": "Python 3",
   "language": "python",
   "name": "python3"
  },
  "language_info": {
   "codemirror_mode": {
    "name": "ipython",
    "version": 3
   },
   "file_extension": ".py",
   "mimetype": "text/x-python",
   "name": "python",
   "nbconvert_exporter": "python",
   "pygments_lexer": "ipython3",
   "version": "3.5.1"
  }
 },
 "nbformat": 4,
 "nbformat_minor": 0
}
