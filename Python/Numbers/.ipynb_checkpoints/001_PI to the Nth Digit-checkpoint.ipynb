{
 "cells": [
  {
   "cell_type": "markdown",
   "metadata": {},
   "source": [
    "### Find PI to the Nth Digit\n",
    "Enter a number and have the program generate PI up to that many decimal places. Keep a limit to how far the program will go."
   ]
  },
  {
   "cell_type": "code",
   "execution_count": 36,
   "metadata": {
    "collapsed": false
   },
   "outputs": [],
   "source": [
    "from decimal import Decimal, getcontext\n",
    "\n",
    "def pi_to_nth_digit():\n",
    "    limit = input('Enter Nth digit (from 0 to 1000): ')\n",
    "    \n",
    "    while (int(limit) > 1000) or (int(limit) < 0):\n",
    "        limit = input('Input not within range. Enter Nth digit (from 0 to 1000): ')\n",
    "    \n",
    "    getcontext().prec= int(limit)\n",
    "    \n",
    "    print(sum(1/Decimal(16)**k * \n",
    "              (Decimal(4)/(8*k+1) - \n",
    "               Decimal(2)/(8*k+4) - \n",
    "               Decimal(1)/(8*k+5) -\n",
    "               Decimal(1)/(8*k+6)) for k in range(int(limit))))\n",
    "    return"
   ]
  },
  {
   "cell_type": "code",
   "execution_count": 37,
   "metadata": {
    "collapsed": false,
    "scrolled": true
   },
   "outputs": [
    {
     "name": "stdout",
     "output_type": "stream",
     "text": [
      "Enter Nth digit (from 0 to 1000): 1000\n",
      "3.141592653589793238462643383279502884197169399375105820974944592307816406286208998628034825342117067982148086513282306647093844609550582231725359408128481117450284102701938521105559644622948954930381964428810975665933446128475648233786783165271201909145648566923460348610454326648213393607260249141273724587006606315588174881520920962829254091715364367892590360011330530548820466521384146951941511609433057270365759591953092186117381932611793105118548074462379962749567351885752724891227938183011949129833673362440656643086021394946395224737190702179860943702770539217176293176752384674818467669405132000568127145263560827785771342757789609173637178721468440901224953430146549585371050792279689258923542019956112129021960864034418159813629774771309960518707211349999998372978049951059731732816096318595024459455346908302642522308253344685035261931188171010003137838752886587533208381420617177669147303598253490428755468731159562863882353787593751957781857780532171226806613001927876611195909216420193\n"
     ]
    }
   ],
   "source": [
    "pi_to_nth_digit()"
   ]
  }
 ],
 "metadata": {
  "kernelspec": {
   "display_name": "Python 3",
   "language": "python",
   "name": "python3"
  },
  "language_info": {
   "codemirror_mode": {
    "name": "ipython",
    "version": 3
   },
   "file_extension": ".py",
   "mimetype": "text/x-python",
   "name": "python",
   "nbconvert_exporter": "python",
   "pygments_lexer": "ipython3",
   "version": "3.5.1"
  }
 },
 "nbformat": 4,
 "nbformat_minor": 0
}
