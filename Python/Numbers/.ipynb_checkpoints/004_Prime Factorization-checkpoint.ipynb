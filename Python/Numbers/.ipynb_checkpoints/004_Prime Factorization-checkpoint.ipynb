{
 "cells": [
  {
   "cell_type": "markdown",
   "metadata": {},
   "source": [
    "### Prime Factorization\n",
    "Have the user enter a number and find all Prime Factors (if there are any) and display them."
   ]
  },
  {
   "cell_type": "code",
   "execution_count": 11,
   "metadata": {
    "collapsed": true
   },
   "outputs": [],
   "source": [
    "def prime_factorization():\n",
    "    num = int(input('Enter number to analyze: '))\n",
    "    \n",
    "    factors = []\n",
    "    \n",
    "    i = 2\n",
    "    while num > 1:\n",
    "        if num % i == 0:\n",
    "            num = num // i\n",
    "            factors.append(i)\n",
    "        else:\n",
    "            i += 1\n",
    "            \n",
    "    return factors"
   ]
  },
  {
   "cell_type": "code",
   "execution_count": 13,
   "metadata": {
    "collapsed": false
   },
   "outputs": [
    {
     "name": "stdout",
     "output_type": "stream",
     "text": [
      "Enter number to analyze: 1234567890987654321\n"
     ]
    },
    {
     "data": {
      "text/plain": [
       "[3, 3, 7, 19, 928163, 1111211111]"
      ]
     },
     "execution_count": 13,
     "metadata": {},
     "output_type": "execute_result"
    }
   ],
   "source": [
    "prime_factorization()"
   ]
  }
 ],
 "metadata": {
  "kernelspec": {
   "display_name": "Python 3",
   "language": "python",
   "name": "python3"
  },
  "language_info": {
   "codemirror_mode": {
    "name": "ipython",
    "version": 3
   },
   "file_extension": ".py",
   "mimetype": "text/x-python",
   "name": "python",
   "nbconvert_exporter": "python",
   "pygments_lexer": "ipython3",
   "version": "3.5.1"
  }
 },
 "nbformat": 4,
 "nbformat_minor": 0
}
